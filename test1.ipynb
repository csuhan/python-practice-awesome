{
 "cells": [
  {
   "cell_type": "code",
   "execution_count": 1,
   "metadata": {},
   "outputs": [],
   "source": [
    "# -*- coding: utf-8 -*-\n",
    "import h5py\n",
    "import numpy as np\n",
    "import os\n",
    "from PIL import Image\n",
    "from scipy.misc import imread\n",
    "import tensorflow as tf\n",
    "from tensorflow.contrib import rnn\n",
    "import matplotlib.pyplot as plt"
   ]
  },
  {
   "cell_type": "code",
   "execution_count": 2,
   "metadata": {},
   "outputs": [
    {
     "name": "stdout",
     "output_type": "stream",
     "text": [
      "./data_process/20150203ndvi.h5\n",
      "img shape (65536, 1)\n",
      "lab_one_hot (65536, 4)\n",
      "./data_process/20150611ndvi.h5\n",
      "img shape (65536, 1)\n",
      "lab_one_hot (65536, 4)\n",
      "./data_process/20150102ndvi.h5\n",
      "img shape (65536, 1)\n",
      "lab_one_hot (65536, 4)\n",
      "./data_process/20150510ndvi.h5\n",
      "img shape (65536, 1)\n",
      "lab_one_hot (65536, 4)\n",
      "./data_process/20151026ndvi.h5\n",
      "img shape (65536, 1)\n",
      "lab_one_hot (65536, 4)\n",
      "./data_process/20160206ndvi.h5\n",
      "img shape (65536, 1)\n",
      "lab_one_hot (65536, 4)\n",
      "./data_process/20151118ndvi.h5\n",
      "img shape (65536, 1)\n",
      "lab_one_hot (65536, 4)\n",
      "./data_process/20160325ndvi.h5\n",
      "img shape (65536, 1)\n",
      "lab_one_hot (65536, 4)\n",
      "./data_process/20150316ndvi.h5\n",
      "img shape (65536, 1)\n",
      "lab_one_hot (65536, 4)\n",
      "./data_process/20150915ndvi.h5\n",
      "img shape (65536, 1)\n",
      "lab_one_hot (65536, 4)\n",
      "./data_process/20160105ndvi.h5\n",
      "img shape (65536, 1)\n",
      "lab_one_hot (65536, 4)\n",
      "./data_process/20150604ndvi.h5\n",
      "img shape (65536, 1)\n",
      "lab_one_hot (65536, 4)\n",
      "./data_process/20151102ndvi.h5\n",
      "img shape (65536, 1)\n",
      "lab_one_hot (65536, 4)\n",
      "./data_process/20150118ndvi.h5\n",
      "img shape (65536, 1)\n",
      "lab_one_hot (65536, 4)\n",
      "./data_process/20150401ndvi.h5\n",
      "img shape (65536, 1)\n",
      "lab_one_hot (65536, 4)\n",
      "./data_process/20150526ndvi.h5\n",
      "img shape (65536, 1)\n",
      "lab_one_hot (65536, 4)\n",
      "./data_process/20151213ndvi.h5\n",
      "img shape (65536, 1)\n",
      "lab_one_hot (65536, 4)\n",
      "./data_process/20150219ndvi.h5\n",
      "img shape (65536, 1)\n",
      "lab_one_hot (65536, 4)\n",
      "./data_process/20150908ndvi.h5\n",
      "img shape (65536, 1)\n",
      "lab_one_hot (65536, 4)\n",
      "./data_process/20151017ndvi.h5\n",
      "img shape (65536, 1)\n",
      "lab_one_hot (65536, 4)\n",
      "(65536, 19, 1) (65536, 19, 4)\n",
      "(65536, 10, 1) (65536, 10, 4)\n"
     ]
    }
   ],
   "source": [
    "# -----------precess the data------------------------\n",
    "#读取h5文件\n",
    "# read every h5_file, and check\n",
    "img_data = []\n",
    "lab_data = []\n",
    "names = os.listdir('./data_process')\n",
    "numimgs = len(names)\n",
    "for i in np.arange(0, numimgs):\n",
    "    fi = h5py.File('./data_process/{}'.format(names[i]), 'r')\n",
    "    fi.keys()\n",
    "    img = fi['image'][:]\n",
    "    lab = fi['label'][:]\n",
    "    print(fi.filename)\n",
    "    print(\"img shape\", img.shape)\n",
    "    print('lab_one_hot', lab.shape)\n",
    "    img_data.append(img)\n",
    "    lab_data.append(lab)\n",
    "    fi.close\n",
    "\n",
    "#数据变换\n",
    "# divide whole data, test the final image\n",
    "numdata = len(img_data)\n",
    "train_imgs, train_labs = img_data[:-1], lab_data[:-1]\n",
    "test_imgs, test_labs = img_data[numdata // 2:], lab_data[numdata // 2:]\n",
    "# the list of imgs/labs convert to [l*w, times, channels/classes]\n",
    "train_imgs, train_labs = np.stack(train_imgs, 1), np.stack(train_labs, 1)\n",
    "test_imgs, test_labs = np.stack(test_imgs, 1), np.stack(test_labs, 1)  # [N, list_len, 4]\n",
    "print(train_imgs.shape, train_labs.shape)\n",
    "print(test_imgs.shape,test_labs.shape)"
   ]
  },
  {
   "cell_type": "code",
   "execution_count": 3,
   "metadata": {},
   "outputs": [],
   "source": [
    "def next_batch(imgs, labs, batch_size):\n",
    "    for i in range(imgs.shape[0] // batch_size - 1):\n",
    "        batch_imgs = imgs[i * batch_size:(i + 1) * batch_size, :]\n",
    "        batch_labs = labs[i * batch_size:(i + 1) * batch_size, :]\n",
    "    return batch_imgs, batch_labs"
   ]
  },
  {
   "cell_type": "code",
   "execution_count": 4,
   "metadata": {},
   "outputs": [
    {
     "name": "stdout",
     "output_type": "stream",
     "text": [
      "WARNING:tensorflow:From <ipython-input-4-a32a649c8a05>:38: softmax_cross_entropy_with_logits (from tensorflow.python.ops.nn_ops) is deprecated and will be removed in a future version.\n",
      "Instructions for updating:\n",
      "\n",
      "Future major versions of TensorFlow will allow gradients to flow\n",
      "into the labels input on backprop by default.\n",
      "\n",
      "See @{tf.nn.softmax_cross_entropy_with_logits_v2}.\n",
      "\n"
     ]
    }
   ],
   "source": [
    "learning_rate = 0.001\n",
    "training_steps = 400\n",
    "batch_size = int(65536/16)\n",
    "display_step = 20\n",
    "\n",
    "# network parameters\n",
    "n_input = train_imgs[0].shape[1]  # channels of images\n",
    "timesteps = test_steps = numdata // 2  # the timesteps of training = testing's\n",
    "n_hidden = 128  # just random number (size of lstm cell)\n",
    "n_classes = train_labs[0].shape[1]\n",
    "\n",
    "X = tf.placeholder(tf.float32, [None, timesteps, n_input])\n",
    "Y = tf.placeholder(tf.float32, [None, n_classes])\n",
    "\n",
    "weights = {\n",
    "    'out': tf.Variable(tf.random_normal([n_hidden, n_classes])),\n",
    "}\n",
    "biases = {\n",
    "    'out': tf.Variable(tf.random_normal([n_classes])),\n",
    "}\n",
    "\n",
    "\n",
    "def RNN(x, weights, biases):\n",
    "    # current data(x) is (batch_size, timesteps, n_input) shape\n",
    "    # need list of (batch_size, n_input) shape with size=timesteps\n",
    "    x = tf.unstack(x, timesteps, 1)\n",
    "    lstm_cell = rnn.BasicLSTMCell(n_hidden, forget_bias=1.0)\n",
    "\n",
    "    outputs, state = rnn.static_rnn(lstm_cell, x, dtype=tf.float32)\n",
    "\n",
    "    return tf.add(tf.matmul(outputs[-1], weights['out']), biases['out'])\n",
    "\n",
    "\n",
    "logits = RNN(X, weights, biases)\n",
    "prediction = tf.nn.softmax(logits)\n",
    "\n",
    "loss_op = tf.reduce_mean(\n",
    "    tf.nn.softmax_cross_entropy_with_logits(logits=logits, labels=Y))\n",
    "optimizer = tf.train.AdamOptimizer(learning_rate=learning_rate)\n",
    "train_op = optimizer.minimize(loss_op)\n",
    "correct_pred = tf.equal(tf.argmax(prediction, 1), tf.argmax(Y, 1))\n",
    "accuracy = tf.reduce_mean(tf.cast(correct_pred, tf.float32))\n",
    "init = tf.global_variables_initializer()\n",
    "fig_loss = np.zeros([training_steps])\n",
    "acc_list = []"
   ]
  },
  {
   "cell_type": "code",
   "execution_count": 5,
   "metadata": {},
   "outputs": [
    {
     "name": "stdout",
     "output_type": "stream",
     "text": [
      "Step 0, Minibatch Loss= 0.3394, Training Accuracy= 0.925\n",
      "Step 20, Minibatch Loss= 0.2702, Training Accuracy= 0.929\n",
      "Step 40, Minibatch Loss= 0.2597, Training Accuracy= 0.934\n",
      "Step 60, Minibatch Loss= 0.2506, Training Accuracy= 0.934\n",
      "Step 80, Minibatch Loss= 0.2462, Training Accuracy= 0.934\n",
      "Step 100, Minibatch Loss= 0.2358, Training Accuracy= 0.934\n",
      "Step 120, Minibatch Loss= 0.2303, Training Accuracy= 0.934\n",
      "Step 140, Minibatch Loss= 0.2277, Training Accuracy= 0.933\n",
      "Step 160, Minibatch Loss= 0.1984, Training Accuracy= 0.934\n",
      "Step 180, Minibatch Loss= 0.1961, Training Accuracy= 0.935\n",
      "Step 200, Minibatch Loss= 0.1688, Training Accuracy= 0.937\n",
      "Step 220, Minibatch Loss= 0.1552, Training Accuracy= 0.940\n",
      "Step 240, Minibatch Loss= 0.1477, Training Accuracy= 0.943\n",
      "Step 260, Minibatch Loss= 0.1412, Training Accuracy= 0.946\n",
      "Step 280, Minibatch Loss= 0.1378, Training Accuracy= 0.948\n",
      "Step 300, Minibatch Loss= 0.1342, Training Accuracy= 0.950\n",
      "Step 320, Minibatch Loss= 0.1310, Training Accuracy= 0.951\n",
      "Step 340, Minibatch Loss= 0.1276, Training Accuracy= 0.951\n",
      "Step 360, Minibatch Loss= 0.1291, Training Accuracy= 0.952\n",
      "Step 380, Minibatch Loss= 0.1262, Training Accuracy= 0.953\n",
      "Optimization finished!!!\n",
      "Test accuracy is  0.8811798\n",
      "生成标签维度 (65536,)\n"
     ]
    },
    {
     "data": {
      "image/png": "[encoded data removed]",
      "text/plain": [
       "<Figure size 432x288 with 2 Axes>"
      ]
     },
     "metadata": {
      "needs_background": "light"
     },
     "output_type": "display_data"
    }
   ],
   "source": [
    "with tf.Session() as sess:\n",
    "    sess.run(init)\n",
    "\n",
    "    for step in range(training_steps):\n",
    "        # 固定时间步长“移动”训练\n",
    "        for i in range(train_imgs.shape[1] - timesteps):\n",
    "            batch_x, batch_y0 = next_batch(train_imgs[:, i:i + timesteps, :],\n",
    "                                           train_labs[:, i:i + timesteps, :],\n",
    "                                           batch_size)\n",
    "            batch_y = batch_y0[:, -1, :]\n",
    "            _, fig_loss[step], acc = sess.run([train_op, loss_op, accuracy],\n",
    "                                              feed_dict={X: batch_x, Y: batch_y})\n",
    "            acc_list.append(acc)\n",
    "\n",
    "        if step % display_step == 0:\n",
    "            loss, acc, pred = sess.run([loss_op, accuracy, prediction],\n",
    "                                       feed_dict={X: batch_x, Y: batch_y})\n",
    "            acc_list.append(acc)\n",
    "            print(\"Step \" + str(step) + \", Minibatch Loss= \" +\n",
    "                  \"{:.4f}\".format(loss) + \", Training Accuracy= \" +\n",
    "                  \"{:.3f}\".format(np.mean(acc_list)))\n",
    "            acc_list = []\n",
    "            # print('predict situation', np.max(np.argmax(pred, 1)))\n",
    "            # print('gt situation', np.max(np.argmax(batch_y, 1)))\n",
    "\n",
    "    print(\"Optimization finished!!!\")\n",
    "\n",
    "    # Test\n",
    "    test_labs0 = test_labs[:, -1, :]\n",
    "    print(\"Test accuracy is \", sess.run(accuracy,\n",
    "                                        feed_dict={X: test_imgs, Y: test_labs0}))\n",
    "    test_pre = sess.run(prediction, feed_dict={X: test_imgs, Y: test_labs0})\n",
    "    pre_lab = np.argmax(test_pre, axis=1)\n",
    "    print(\"生成标签维度\", pre_lab.shape)\n",
    "    plt.subplot(211)\n",
    "    plt.imshow(pre_lab.reshape(256, 256))\n",
    "    plt.subplot(212)\n",
    "    plt.imshow(np.argmax(test_labs0, axis=1).reshape(256, 256))\n",
    "    plt.show()"
   ]
  },
  {
   "cell_type": "code",
   "execution_count": 6,
   "metadata": {},
   "outputs": [
    {
     "data": {
      "image/png": "[encoded data removed]",
      "text/plain": [
       "<Figure size 432x288 with 1 Axes>"
      ]
     },
     "metadata": {
      "needs_background": "light"
     },
     "output_type": "display_data"
    }
   ],
   "source": [
    "fig, ax1 = plt.subplots()\n",
    "lns1 = ax1.plot(np.arange(training_steps), fig_loss, label=\"Loss\")\n",
    "ax1.set_xlabel('iteration')\n",
    "ax1.set_ylabel('training loss')\n",
    "labels = [\"Loss\"]\n",
    "plt.legend(lns1, labels, loc=7)\n",
    "plt.show()"
   ]
  }
 ],
 "metadata": {
  "kernelspec": {
   "display_name": "Python 3",
   "language": "python",
   "name": "python3"
  },
  "language_info": {
   "codemirror_mode": {
    "name": "ipython",
    "version": 3
   },
   "file_extension": ".py",
   "mimetype": "text/x-python",
   "name": "python",
   "nbconvert_exporter": "python",
   "pygments_lexer": "ipython3",
   "version": "3.5.6"
  }
 },
 "nbformat": 4,
 "nbformat_minor": 2
}
